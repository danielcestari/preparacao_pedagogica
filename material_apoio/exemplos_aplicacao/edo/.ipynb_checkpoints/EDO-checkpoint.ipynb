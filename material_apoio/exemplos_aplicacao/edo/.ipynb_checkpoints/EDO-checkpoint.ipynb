{
 "cells": [
  {
   "cell_type": "markdown",
   "metadata": {},
   "source": [
    "Equações diferenciais ordinárias\n",
    "\n",
    "Referência: https://en.wikipedia.org/wiki/Matrix_differential_equation\n",
    "\n",
    "---\n",
    "\n",
    "Uma equação diferencial é uma equação para uma função que relaciona os falores da função com ela mesma e suas derivadas de várias ordens. Um equação diferencial matricial contém mais de uma função empilhada em forma vetorial com a matriz relacionando a função a suas derivadas.\n",
    "\n",
    "Um exemplo de equação diferencial matricial simples é \n",
    "\n",
    "$\\dot{X}(t) = AX(t)$, \n",
    "\n",
    "onde $X(t)$ é um vetor coluna com $n$ elementos contendo funções da variável independente $t$, $\\dot{X}(t)$ é o vetor com a primeira derivada dessas funções, e $A$ é uma matriz $n$ x $n$ com os coeficientes relacionando as derivadas ás funções.\n",
    "\n",
    "No caso da matriz $A$ ter $n$ autovetores linearmente independentes, esta equação diferencial terá a seguinte solução geral:\n",
    "\n",
    "$X(t) = c_1 e^{\\lambda_1t}u_1 + c_2 e^{\\lambda_2t}u_2 + . . . + c_n e^{\\lambda_nt}u_n$,\n",
    "\n",
    "onde $e^{\\lambda_1}, e^{\\lambda_2}, ..., e^{\\lambda_n}$ são os autovalores de $A$, e $u_1, u_2, ..., u_n$ são os respectivos autovetores de $A$, e $c_1, c_2, ..., c_n$ são constantes.\n"
   ]
  },
  {
   "cell_type": "markdown",
   "metadata": {},
   "source": [
    "---\n",
    "Resolvendo um exemplo numericamente\n",
    "\n",
    "Dada as equações:\n",
    "\n",
    "$\\frac{dx}{dt} = 3x - 4y$\n",
    "\n",
    "$\\frac{dy}{dt} = 4x - 7y$\n",
    "\n",
    "Montamos a matriz A:\n",
    "\n"
   ]
  },
  {
   "cell_type": "code",
   "execution_count": 9,
   "metadata": {},
   "outputs": [
    {
     "name": "stdout",
     "output_type": "stream",
     "text": [
      "[[ 3 -4]\n",
      " [ 4 -7]]\n"
     ]
    }
   ],
   "source": [
    "import numpy as np\n",
    "\n",
    "A = np.array( [[3, -4], [4, -7]] )\n",
    "print(A)"
   ]
  },
  {
   "cell_type": "markdown",
   "metadata": {},
   "source": [
    "Agora encontramos os autovalores e autovetores associados a A"
   ]
  },
  {
   "cell_type": "code",
   "execution_count": 10,
   "metadata": {},
   "outputs": [
    {
     "name": "stdout",
     "output_type": "stream",
     "text": [
      "\n",
      "Autovalores \n",
      "[ 1. -5.]\n",
      "\n",
      "\n",
      "Autovetores \n",
      "[[0.89442719 0.4472136 ]\n",
      " [0.4472136  0.89442719]]\n",
      "\n",
      "Apenas normalizarei dividindo pelo menos componente do autovetor\n",
      "\n",
      "lambda_1 = 1.0 ; u_1 [2. 1.]\n",
      "\n",
      "\n",
      "lambda_2 = -5.0 ; u_2 [1. 2.]\n",
      "\n",
      "\n"
     ]
    }
   ],
   "source": [
    "eigvalues, eigvectors = np.linalg.eig(A)\n",
    "print('\\nAutovalores \\n%s\\n'%(eigvalues))\n",
    "print('\\nAutovetores \\n%s\\n'%(eigvectors))\n",
    "\n",
    "print('Apenas normalizarei dividindo pelo menos componente do autovetor')\n",
    "print('\\nlambda_1 = %s ; u_1 %s\\n'%(eigvalues[0], eigvectors[:, 0] / eigvectors[:, 0].min()))\n",
    "print('\\nlambda_2 = %s ; u_2 %s\\n'%(eigvalues[1], eigvectors[:, 1] / eigvectors[:, 1].min()))\n",
    "\n",
    "print()"
   ]
  },
  {
   "cell_type": "markdown",
   "metadata": {},
   "source": [
    "Agora podemos montar a solução geral desse sistema:\n",
    "\n",
    "${x \\choose y} = Ae^{\\lambda_1t}u_1 + Be^{\\lambda_2t}u_2$\n",
    "\n",
    "${x \\choose y} = Ae^{t}{2 \\choose 1}  + Be^{-5t}{1 \\choose 2}$\n",
    "\n",
    "---\n",
    "\n",
    "$x = 2Ae^t + Be^{-5t}$\n",
    "\n",
    "$y = Ae^t + 2Be^{-5t}$\n"
   ]
  },
  {
   "cell_type": "code",
   "execution_count": null,
   "metadata": {},
   "outputs": [],
   "source": []
  },
  {
   "cell_type": "code",
   "execution_count": null,
   "metadata": {},
   "outputs": [],
   "source": []
  },
  {
   "cell_type": "code",
   "execution_count": null,
   "metadata": {},
   "outputs": [],
   "source": []
  }
 ],
 "metadata": {
  "kernelspec": {
   "display_name": "Python 3",
   "language": "python",
   "name": "python3"
  },
  "language_info": {
   "codemirror_mode": {
    "name": "ipython",
    "version": 3
   },
   "file_extension": ".py",
   "mimetype": "text/x-python",
   "name": "python",
   "nbconvert_exporter": "python",
   "pygments_lexer": "ipython3",
   "version": "3.6.5"
  }
 },
 "nbformat": 4,
 "nbformat_minor": 2
}
